import pandas as pd
import plotly.graph_objects as go

# Load the data from CSV file
data = pd.read_csv(r'C:\Users\cheta\Downloads\options_data\nifty_data\nifty_options\2020\1\nifty_options_01_01_2020.csv')

# Check the first few rows to confirm the data is loaded correctly
print(data.head())

# Combine 'date' and 'time' columns into a single datetime column
# Adjust the format based on the actual format of 'date'
try:
    data['datetime'] = pd.to_datetime(data['date'] + ' ' + data['time'], dayfirst=True)
except ValueError as e:
    print("Error parsing datetime:", e)
    # Handle the error or try a different format
    data['datetime'] = pd.to_datetime(data['date'] + ' ' + data['time'], format='%Y-%m-%d %H:%M:%S', errors='coerce')

# Ensure the 'datetime' column is in datetime format
print(data['datetime'].head())  # Inspect the datetime column

# Filter data for a specific date
specific_date_str = '01-01-2020'  # Change this to the desired date

# Convert the specific_date_str to datetime
specific_date = pd.to_datetime(specific_date_str, dayfirst=True)

# Filter using the 'datetime' column
data_filtered = data[data['datetime'].dt.date == specific_date.date()]

# Sort by datetime to ensure correct time order
data_filtered = data_filtered.sort_values(by='datetime')

# Calculate 9-period and 21-period Exponential Moving Averages (EMA)
data_filtered['EMA9'] = data_filtered['close'].ewm(span=9, adjust=False).mean()
data_filtered['EMA21'] = data_filtered['close'].ewm(span=21, adjust=False).mean()

# Create the candlestick chart with EMA lines
fig = go.Figure(data=[go.Candlestick(
    x=data_filtered['datetime'],
    open=data_filtered['open'],
    high=data_filtered['high'],
    low=data_filtered['low'],
    close=data_filtered['close'],
    increasing_line_color='green', decreasing_line_color='red',
    name='Candlestick'
)])

# Add the 9-period EMA to the plot
fig.add_trace(go.Scatter(
    x=data_filtered['datetime'],
    y=data_filtered['EMA9'],
    mode='lines',
    name='EMA 9',
    line=dict(color='blue', width=2)
))

# Add the 21-period EMA to the plot
fig.add_trace(go.Scatter(
    x=data_filtered['datetime'],
    y=data_filtered['EMA21'],
    mode='lines',
    name='EMA 21',
    line=dict(color='orange', width=2)
))

# Update the layout of the chart
fig.update_layout(
    title=f'Nifty 50 Options Candlestick Chart with EMA - {specific_date_str}',
    xaxis_title='Time',
    yaxis_title='Price',
    xaxis_rangeslider_visible=False,  # Disable the range slider
    template='plotly_dark',  # Use dark theme, you can change to 'plotly' for a light theme
    xaxis=dict(
        showline=True,
        showgrid=False,
        showticklabels=True,
        tickangle=45
    ),
    yaxis=dict(
        showline=True,
        showgrid=True,
        zeroline=False
    )
)

# Show the plot
fig.show()
